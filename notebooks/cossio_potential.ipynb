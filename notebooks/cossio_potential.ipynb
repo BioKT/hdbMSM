{
 "cells": [
  {
   "cell_type": "code",
   "execution_count": null,
   "metadata": {},
   "outputs": [],
   "source": [
    "import h5py\n",
    "import numpy as np\n",
    "import matplotlib.pyplot as plt\n",
    "import matplotlib.cm as cm\n",
    "import matplotlib as mpl\n",
    "\n",
    "import seaborn as sns\n",
    "sns.set(style=\"ticks\", color_codes=True, font_scale=1.25)\n",
    "sns.set_style({\"xtick.direction\": \"in\", \"ytick.direction\": \"in\"})"
   ]
  },
  {
   "cell_type": "markdown",
   "metadata": {},
   "source": [
    "## MSM of a bistable model potential\n",
    "Here we analyze a Brownian dynamics trajectory on the model potential by Berezhkovskii et al ([*J. Chem. Phys.*, 2014](https://doi.org/10.1063/1.4902243)), used in the context of single molecule force spectroscopy by Cossio, Hummer and Szabo ([*PNAS*, 2015](https://doi.org/10.1073/pnas.1519633112))."
   ]
  },
  {
   "cell_type": "markdown",
   "metadata": {},
   "source": [
    "### Analysis"
   ]
  },
  {
   "cell_type": "markdown",
   "metadata": {},
   "source": [
    "First of all, we import the [PyEMMA](www.emma-project.org) software package."
   ]
  },
  {
   "cell_type": "code",
   "execution_count": null,
   "metadata": {},
   "outputs": [],
   "source": [
    "import pyemma\n",
    "pyemma.__version__"
   ]
  },
  {
   "cell_type": "markdown",
   "metadata": {},
   "source": [
    "Next we load a trajectory run on the bistable potential and check for the shape of the trajectory."
   ]
  },
  {
   "cell_type": "code",
   "execution_count": null,
   "metadata": {},
   "outputs": [],
   "source": [
    "h5file = \"./data/cossio_kl1.3_Dx1_Dq1.h5\"\n",
    "f = h5py.File(h5file, 'r')\n",
    "data0 = np.array(f['data'])\n",
    "f.close()\n",
    "X = data0[:,[1,2]]"
   ]
  },
  {
   "cell_type": "code",
   "execution_count": null,
   "metadata": {},
   "outputs": [],
   "source": [
    "X0, X1 = X[:,0], X[:,1]\n",
    "X.shape, X0.shape, X1.shape"
   ]
  },
  {
   "cell_type": "code",
   "execution_count": null,
   "metadata": {},
   "outputs": [],
   "source": [
    "from pyemma.util.contexts import settings\n",
    "import pyemma.coordinates as coor\n",
    "import pyemma.plots as mplt"
   ]
  },
  {
   "cell_type": "markdown",
   "metadata": {},
   "source": [
    "Check $x$ and $y$ coordinates along the trajectory. We see that as we would expect for this model both coordinates are highly correlated."
   ]
  },
  {
   "cell_type": "code",
   "execution_count": null,
   "metadata": {},
   "outputs": [],
   "source": [
    "fig, ax = plt.subplots(2,1, sharex=True, sharey=True, figsize=(10, 3.))\n",
    "ax[0].plot(range(len(X[:,0])), X[:,0], linewidth=0.9, c='b')\n",
    "ax[1].plot(range(len(X[:,1])), X[:,1], linewidth=0.9, c='r')\n",
    "ax[1].set_xlabel('time', fontsize=18)\n",
    "ax[0].set_ylabel('x', fontsize=18)\n",
    "ax[1].set_ylabel('y', fontsize=18)\n",
    "ax[0].set_xlim(0, 25000)\n",
    "plt.tight_layout()\n",
    "#plt.savefig('../figures/cossio/traj_1d.png', dpi=300, transparent=True)"
   ]
  },
  {
   "cell_type": "markdown",
   "metadata": {},
   "source": [
    "Then we load the trajectory into PyEMMA."
   ]
  },
  {
   "cell_type": "code",
   "execution_count": null,
   "metadata": {},
   "outputs": [],
   "source": [
    "inp = coor.source([data0[:,[1,2]]])"
   ]
  },
  {
   "cell_type": "code",
   "execution_count": null,
   "metadata": {},
   "outputs": [],
   "source": [
    "print ('number of trajectories = ', inp.ntraj)\n",
    "print('1st trajectory length = ',inp.trajectory_length(0))\n",
    "print('number of dimension = ',inp.dimension())"
   ]
  },
  {
   "cell_type": "markdown",
   "metadata": {},
   "source": [
    "### Traditional MSM construction\n",
    "In this case, for producing the standard MSM we will run k-means clustering of the dataset. Alternatively, datapoints could be assigned to states using a grid."
   ]
  },
  {
   "cell_type": "code",
   "execution_count": null,
   "metadata": {},
   "outputs": [],
   "source": [
    "cl = coor.cluster_kmeans(data=[X], k=100, max_iter=150) #, stride=1\n",
    "# for later use we save the discrete trajectories and cluster center coordinates:\n",
    "dtrajs = cl.dtrajs\n",
    "ccx = cl.clustercenters[:,0]\n",
    "ccy = cl.clustercenters[:,1]"
   ]
  },
  {
   "cell_type": "markdown",
   "metadata": {},
   "source": [
    "For visualization purposes, we generate the free energy surface described by Berezhkovskii et al. and plot together with the cluster centers resulting from K-means clustering. For this we will need a separate bit of Cython code available at [Github](https://github.com/daviddesancho/smFSmodels)."
   ]
  },
  {
   "cell_type": "code",
   "execution_count": null,
   "metadata": {},
   "outputs": [],
   "source": [
    "import cossio\n",
    "import sys\n",
    "yp = np.linspace(-10.,10.,400)\n",
    "xp = np.linspace(-10.,10.,400)\n",
    "mat = np.zeros((len(xp), len(yp)))\n",
    "for i, x_i in enumerate(xp):\n",
    "    for j, y_i in enumerate(yp):\n",
    "        aux = cossio.Gqx(x_i,y_i, kl=1.3)\n",
    "        mat[i, j] = aux\n",
    "\n",
    "Xpp, Ypp = np.meshgrid(xp,yp)"
   ]
  },
  {
   "cell_type": "code",
   "execution_count": null,
   "metadata": {},
   "outputs": [],
   "source": [
    "fig, ax = plt.subplots(figsize=(4.5,4))\n",
    "lev = np.arange(-11,13, 2)\n",
    "CS = ax.contourf(Xpp, Ypp, mat, levels=lev, cmap='Greys_r')\n",
    "ax.plot(ccx, ccy, linewidth=0, marker='o', mfc='r', mec='k')\n",
    "#im = ax.imshow(mat, extent=[-10, 10, -10, 10], origin='lower',\n",
    "#           cmap='viridis', alpha=0.5);\n",
    "plt.colorbar(CS)\n",
    "ax.set_xlabel('x')\n",
    "ax.set_ylabel('y')\n",
    "yt = np.arange(-10,10,5)\n",
    "ax.set_yticks([-10,-5,0,5,10])"
   ]
  },
  {
   "cell_type": "markdown",
   "metadata": {},
   "source": [
    "Construct the MSM corresponding to the aforementioned discretization."
   ]
  },
  {
   "cell_type": "code",
   "execution_count": null,
   "metadata": {},
   "outputs": [],
   "source": [
    "import pyemma.msm as msm\n",
    "import pyemma.plots as mplt\n",
    "lags = [1, 2, 5, 10, 20, 30]\n",
    "\n",
    "its = msm.its(dtrajs, lags=lags, errors='bayes')"
   ]
  },
  {
   "cell_type": "code",
   "execution_count": null,
   "metadata": {},
   "outputs": [],
   "source": [
    "fig, ax = plt.subplots(figsize=(4.5,3.5))\n",
    "mplt.plot_implied_timescales(its, ylog=True, nits=5)\n",
    "ax.set_ylim(1,1000)\n",
    "ax.set_xlabel(r'$\\tau$', fontsize=18)\n",
    "ax.set_ylabel('ITS', fontsize=18)\n",
    "plt.tight_layout()\n",
    "#plt.savefig('../figures/cossio/cossio-kmeans-times.png', dpi=300, transparent=True)"
   ]
  },
  {
   "cell_type": "code",
   "execution_count": null,
   "metadata": {},
   "outputs": [],
   "source": [
    "fig, ax = plt.subplots(figsize=(4.5,3.5))\n",
    "mplt.plot_implied_timescales(its, ylog=False, nits=5)\n",
    "ax.set_ylim(1,1000)\n",
    "ax.set_xlabel(r'$\\tau$', fontsize=18)\n",
    "ax.set_ylabel('ITS', fontsize=18)\n",
    "plt.tight_layout()\n",
    "#plt.savefig('../figures/cossio/cossio-kmeans-times_linear.png', dpi=300, transparent=True)"
   ]
  },
  {
   "cell_type": "code",
   "execution_count": null,
   "metadata": {},
   "outputs": [],
   "source": [
    "M = msm.estimate_markov_model(dtrajs, 10)"
   ]
  },
  {
   "cell_type": "code",
   "execution_count": null,
   "metadata": {},
   "outputs": [],
   "source": [
    "M.timescales()[:2]"
   ]
  },
  {
   "cell_type": "code",
   "execution_count": null,
   "metadata": {},
   "outputs": [],
   "source": [
    "fig, ax = plt.subplots()\n",
    "ax.plot(M.timescales(),linewidth=1.5, marker='o')\n",
    "ax.set_xlabel(r'index', fontsize=16)\n",
    "ax.set_ylabel(r'$-\\tau/\\ln \\lambda$', fontsize=16)\n",
    "ax.set_xlim(-0.5,10.5)\n",
    "ax.set_ylim(1,1000)\n",
    "plt.yscale('log')"
   ]
  },
  {
   "cell_type": "code",
   "execution_count": null,
   "metadata": {},
   "outputs": [],
   "source": [
    "eigvec = M.eigenvectors_left()\n",
    "print('first eigenvector is one: {} (min={}, max={})'.format(\n",
    "    np.allclose(eigvec[:, 0], 1, atol=1e-15), eigvec[:, 0].min(), eigvec[:, 0].max()))"
   ]
  },
  {
   "cell_type": "code",
   "execution_count": null,
   "metadata": {},
   "outputs": [],
   "source": [
    "plt.hist(eigvec[1], bins=np.linspace(np.min(eigvec[1]), np.max(eigvec[1]), 20))"
   ]
  },
  {
   "cell_type": "code",
   "execution_count": null,
   "metadata": {},
   "outputs": [],
   "source": [
    "fig, ax = plt.subplots(figsize=(4.5, 4))\n",
    "sc = ax.scatter(cl.clustercenters[:,0], cl.clustercenters[:,1], c=eigvec[1], s=20)\n",
    "plt.colorbar(sc)\n",
    "ax.set_xlabel('x', fontsize=14)\n",
    "ax.set_ylabel('y', fontsize=14)\n",
    "plt.tight_layout()"
   ]
  },
  {
   "cell_type": "markdown",
   "metadata": {},
   "source": [
    "Since there is a single slow process, let us lump the microstates into two macrostates by using PCCA+ spectral clustering."
   ]
  },
  {
   "cell_type": "code",
   "execution_count": null,
   "metadata": {},
   "outputs": [],
   "source": [
    "M.pcca(2)"
   ]
  },
  {
   "cell_type": "code",
   "execution_count": null,
   "metadata": {},
   "outputs": [],
   "source": [
    "pcca_sets = M.metastable_sets"
   ]
  },
  {
   "cell_type": "code",
   "execution_count": null,
   "metadata": {
    "scrolled": true
   },
   "outputs": [],
   "source": [
    "fig, ax = plt.subplots(figsize=(4.5, 4))\n",
    "#CS = ax.contourf(Xpp, Ypp, mat, levels=lev, cmap='Greys_r', alpha=0.5)\n",
    "#ax.imshow(mat, extent=[-10, 10, -10, 10], origin='lower',\n",
    "#           cmap='viridis', alpha=0.5);#RdGy\n",
    "ax.scatter(cl.clustercenters[pcca_sets[0],0], cl.clustercenters[pcca_sets[0],1], color='midnightblue', s=20)\n",
    "ax.scatter(cl.clustercenters[pcca_sets[1],0], cl.clustercenters[pcca_sets[1],1], color='darkred', s=20)\n",
    "#im = ax.imshow(mat, extent=[-10, 10, -10, 10], origin='lower',\n",
    "#           cmap='viridis', alpha=0.5);\n",
    "#plt.colorbar(CS)\n",
    "ax.set_xlabel('x', fontsize=14)\n",
    "ax.set_ylabel('y', fontsize=14)\n",
    "plt.tight_layout()\n",
    "#plt.savefig('../figures/cossio/cossio-kmeans.png', dpi=300, transparent=True)"
   ]
  },
  {
   "cell_type": "code",
   "execution_count": null,
   "metadata": {},
   "outputs": [],
   "source": [
    "A = [i for i, x in enumerate(eigvec[1]) if (x>0.015)] \n",
    "B = [i for i, x in enumerate(eigvec[1]) if (x<-0.015)] \n",
    "flux = pyemma.msm.tpt(M, A, B)"
   ]
  },
  {
   "cell_type": "code",
   "execution_count": null,
   "metadata": {},
   "outputs": [],
   "source": [
    "fig, ax = plt.subplots(figsize=(4.5, 4))\n",
    "sc = ax.scatter(cl.clustercenters[:,0], cl.clustercenters[:,1], c=flux.committor, s=20)\n",
    "plt.colorbar(sc)\n",
    "ax.set_xlabel('x', fontsize=14)\n",
    "ax.set_ylabel('y', fontsize=14)\n",
    "plt.tight_layout()"
   ]
  },
  {
   "cell_type": "code",
   "execution_count": null,
   "metadata": {},
   "outputs": [],
   "source": [
    "fig, ax = plt.subplots()\n",
    "ax.plot(cl.clustercenters[:,0], flux.committor, '.')\n",
    "ax.set_xlabel('x')\n",
    "ax.set_ylabel(r'$p_{fold}$')"
   ]
  },
  {
   "cell_type": "markdown",
   "metadata": {},
   "source": [
    "Chapman-Kolmogorov test for the MSM resulting from PCCA+ clustering."
   ]
  },
  {
   "cell_type": "code",
   "execution_count": null,
   "metadata": {},
   "outputs": [],
   "source": [
    "M = msm.bayesian_markov_model(dtrajs, 10)"
   ]
  },
  {
   "cell_type": "code",
   "execution_count": null,
   "metadata": {},
   "outputs": [],
   "source": [
    "ck = M.cktest(2) #M.cktest(3)"
   ]
  },
  {
   "cell_type": "code",
   "execution_count": null,
   "metadata": {},
   "outputs": [],
   "source": [
    "plt.rcParams.update({'font.size': 11})\n",
    "fig, axes = mplt.plot_cktest(ck, figsize=(9, 9), padding_between=0.15, padding_top=0.13)\n",
    "#plt.savefig(\"../figures/cossio/cossio-pcca-ck.png\")\n",
    "#mplt.plot_cktest(ck)"
   ]
  },
  {
   "cell_type": "markdown",
   "metadata": {},
   "source": [
    "### MSM construction exploting density-based clustering"
   ]
  },
  {
   "cell_type": "code",
   "execution_count": null,
   "metadata": {
    "scrolled": true
   },
   "outputs": [],
   "source": [
    "import hdbscan"
   ]
  },
  {
   "cell_type": "code",
   "execution_count": null,
   "metadata": {},
   "outputs": [],
   "source": [
    "data = np.vstack((X))"
   ]
  },
  {
   "cell_type": "code",
   "execution_count": null,
   "metadata": {},
   "outputs": [],
   "source": [
    "np.shape(data)"
   ]
  },
  {
   "cell_type": "markdown",
   "metadata": {},
   "source": [
    "Apply HDBSCAN clustering with 'minimum cluster size' equal to 50 and 'minimum samples' equal to 70 to previously normalized data. Then look into resulting clusters."
   ]
  },
  {
   "cell_type": "code",
   "execution_count": null,
   "metadata": {},
   "outputs": [],
   "source": [
    "from sklearn.preprocessing import StandardScaler\n",
    "norm_X = StandardScaler().fit_transform(data)"
   ]
  },
  {
   "cell_type": "code",
   "execution_count": null,
   "metadata": {},
   "outputs": [],
   "source": [
    "hdb = hdbscan.HDBSCAN(min_cluster_size=100).fit(norm_X)"
   ]
  },
  {
   "cell_type": "code",
   "execution_count": null,
   "metadata": {},
   "outputs": [],
   "source": [
    "np.unique(hdb.labels_)"
   ]
  },
  {
   "cell_type": "markdown",
   "metadata": {},
   "source": [
    "-1 cluster label denotes 'noise', so two clusters are obtained from HDBSCAN clustering. The latter can be better understood from the corresponding condensed tree plot. For more details see https://hdbscan.readthedocs.io/en/latest/how_hdbscan_works.html"
   ]
  },
  {
   "cell_type": "code",
   "execution_count": null,
   "metadata": {},
   "outputs": [],
   "source": [
    "fig = plt.figure()\n",
    "ax = hdb.condensed_tree_.plot(select_clusters=True, cmap='RdBu_r', selection_palette=sns.color_palette())\n",
    "plt.tight_layout()\n",
    "#plt.savefig(\"../figures/cossio/cossio-hdbscan-tree.png\", dpi=300)"
   ]
  },
  {
   "cell_type": "code",
   "execution_count": null,
   "metadata": {},
   "outputs": [],
   "source": [
    "fig, ax = plt.subplots(figsize=(4.5, 4))\n",
    "assign = hdb.labels_ >= 0\n",
    "CS = ax.contourf(Xpp, Ypp, mat, levels=lev, cmap='Greys_r', alpha=0.5)\n",
    "ax.scatter(data[assign,0],data[assign,1], marker='o', \n",
    "                cmap='RdBu', s=1, c=hdb.labels_[assign])\n",
    "nassign = hdb.labels_ == -1\n",
    "ax.scatter(data[nassign,0],data[nassign,1], marker='.', \n",
    "                s=0.5, c='k', alpha=0.5)\n",
    "plt.colorbar(CS)\n",
    "ax.set_xlabel('x')\n",
    "ax.set_ylabel('y')\n",
    "plt.tight_layout()"
   ]
  },
  {
   "cell_type": "markdown",
   "metadata": {},
   "source": [
    "In order to be more stringent with the TBA methodology, let us set as 'noise' those points whose probability to be in their corresponding clusters is less than 40%."
   ]
  },
  {
   "cell_type": "code",
   "execution_count": null,
   "metadata": {},
   "outputs": [],
   "source": [
    "for i, x_i in enumerate(hdb.labels_):\n",
    "    if hdb.probabilities_[i] < 0.4:\n",
    "        hdb.labels_[i] = -1\n",
    "assign = hdb.labels_>= 0\n",
    "nassign = hdb.labels_ < 0"
   ]
  },
  {
   "cell_type": "code",
   "execution_count": null,
   "metadata": {
    "scrolled": true
   },
   "outputs": [],
   "source": [
    "fig, ax = plt.subplots(figsize=(4.,4))\n",
    "# histogram data\n",
    "CS = ax.contourf(Xpp, Ypp, mat, levels=lev, cmap='Greys_r', alpha=0.5)\n",
    "#plt.colorbar(CS)\n",
    "\n",
    "assign = hdb.labels_ >= 0\n",
    "ax.scatter(data[assign,0],data[assign,1], marker='o', \n",
    "                cmap='RdBu', s=1, c=hdb.labels_[assign])\n",
    "nassign = hdb.labels_ == -1\n",
    "ax.scatter(data[nassign,0],data[nassign,1], marker='.', \n",
    "                cmap='k', s=0.1, c='k')\n",
    "ax.set_xlabel('x', fontsize=14)\n",
    "ax.set_ylabel('y', fontsize=14)\n",
    "plt.tight_layout()\n",
    "#plt.savefig('../figures/cossio/cossio-hdbscan.png', dpi=300, transparent=True)"
   ]
  },
  {
   "cell_type": "markdown",
   "metadata": {},
   "source": [
    "If we consider clusterization good enough, proceed to lag time selection and MSM estimation"
   ]
  },
  {
   "cell_type": "code",
   "execution_count": null,
   "metadata": {},
   "outputs": [],
   "source": [
    "import pyemma.msm as msm\n",
    "import pyemma.plots as mplt\n",
    "lags = [1, 2, 5, 10, 20, 30]"
   ]
  },
  {
   "cell_type": "code",
   "execution_count": null,
   "metadata": {},
   "outputs": [],
   "source": [
    "labels_tba = []\n",
    "for i, l in enumerate(hdb.labels_):\n",
    "    if l == -1:\n",
    "        try:\n",
    "            labels_tba.append(labels_tba[-1])\n",
    "        except IndexError:\n",
    "            pass\n",
    "    else:\n",
    "        labels_tba.append(l)"
   ]
  },
  {
   "cell_type": "code",
   "execution_count": null,
   "metadata": {},
   "outputs": [],
   "source": [
    "#its_hdb = msm.its(hdb.labels_[assign], lags=lags, errors='bayes')\n",
    "its_hdb = msm.its(labels_tba, lags=lags, errors='bayes')"
   ]
  },
  {
   "cell_type": "code",
   "execution_count": null,
   "metadata": {
    "scrolled": true
   },
   "outputs": [],
   "source": [
    "fig, ax = plt.subplots(figsize=(4.5,3.5))\n",
    "mplt.plot_implied_timescales(its_hdb, ylog=True)\n",
    "ax.set_ylim(1,1000)\n",
    "ax.set_xlabel(r'$\\tau$', fontsize=18)\n",
    "ax.set_ylabel('ITS', fontsize=18)\n",
    "plt.tight_layout()\n",
    "#plt.savefig('../figures/cossio/cossio-hdbscan-its.png', dpi=300, transparent=True)"
   ]
  },
  {
   "cell_type": "code",
   "execution_count": null,
   "metadata": {},
   "outputs": [],
   "source": [
    "fig, ax = plt.subplots(figsize=(4.5,3.5))\n",
    "mplt.plot_implied_timescales(its_hdb, ylog=False)\n",
    "ax.set_ylim(1,1000)\n",
    "ax.set_xlabel(r'$\\tau$', fontsize=18)\n",
    "ax.set_ylabel('ITS', fontsize=18)\n",
    "plt.tight_layout()\n",
    "#plt.savefig('../figures/cossio/cossio-hdbscan-its-linear.png', dpi=300, transparent=True)"
   ]
  },
  {
   "cell_type": "code",
   "execution_count": null,
   "metadata": {},
   "outputs": [],
   "source": [
    "M_hdb = msm.estimate_markov_model(labels_tba, 10)"
   ]
  },
  {
   "cell_type": "code",
   "execution_count": null,
   "metadata": {},
   "outputs": [],
   "source": [
    "M_hdb.timescales()"
   ]
  },
  {
   "cell_type": "markdown",
   "metadata": {},
   "source": [
    "Validate the obtained HDBSCAN MSM by carrying out the corresponding Chapman-Kolmogorov test."
   ]
  },
  {
   "cell_type": "code",
   "execution_count": null,
   "metadata": {},
   "outputs": [],
   "source": [
    "M = msm.bayesian_markov_model(labels_tba, 10)"
   ]
  },
  {
   "cell_type": "code",
   "execution_count": null,
   "metadata": {},
   "outputs": [],
   "source": [
    "ck = M.cktest(2)"
   ]
  },
  {
   "cell_type": "code",
   "execution_count": null,
   "metadata": {},
   "outputs": [],
   "source": [
    "plt.rcParams.update({'font.size': 11})\n",
    "fig, axes = mplt.plot_cktest(ck, figsize=(9, 9), padding_between=0.15, padding_top=0.13)\n",
    "\n",
    "#plt.savefig(\"../figures/cossio/cossio-hdbscan-ck.png\", dpi=300)"
   ]
  },
  {
   "cell_type": "markdown",
   "metadata": {},
   "source": [
    "## Exploring parameter space"
   ]
  },
  {
   "cell_type": "markdown",
   "metadata": {},
   "source": [
    "### Min cluster size"
   ]
  },
  {
   "cell_type": "code",
   "execution_count": null,
   "metadata": {},
   "outputs": [],
   "source": [
    "fig, ax = plt.subplots(1, 4, figsize=(12,3))\n",
    "fig2, ax2 = plt.subplots(1,4, figsize=(11,3), sharex=True, sharey=True)\n",
    "fig3, ax3 = plt.subplots(1,4, figsize=(11,3), sharex=True, sharey=True)\n",
    "\n",
    "for i, mcs in enumerate([10, 20, 100, 500]):\n",
    "    hdb = hdbscan.HDBSCAN(min_cluster_size=mcs).fit(norm_X)\n",
    "    hdb.condensed_tree_.plot(select_clusters=True, cmap='RdBu_r', colorbar=False, \\\n",
    "                             axis=ax[i], selection_palette=sns.color_palette())\n",
    "    ax[i].set_ylabel('')\n",
    "\n",
    "    assign = hdb.labels_ >= 0\n",
    "    CS = ax2[i].contourf(Xpp, Ypp, mat, levels=lev, cmap='Greys_r', alpha=0.5)\n",
    "    ax2[i].scatter(data[assign,0],data[assign,1], marker='o', \n",
    "                cmap='RdBu', s=1, c=hdb.labels_[assign])\n",
    "    nassign = hdb.labels_ == -1\n",
    "    ax2[i].scatter(data[nassign,0],data[nassign,1], marker='.', \n",
    "                s=0.5, c='k', alpha=0.5)\n",
    "#plt.colorbar(CS)\n",
    "    ax2[i].set_xlabel('x')\n",
    "    \n",
    "    labels_tba = []\n",
    "    for k, l in enumerate(hdb.labels_):\n",
    "        if l == -1:\n",
    "            try:\n",
    "                labels_tba.append(labels_tba[-1])\n",
    "            except IndexError:\n",
    "                pass\n",
    "        else:\n",
    "            labels_tba.append(l)\n",
    "\n",
    "    its_hdb = msm.its(labels_tba, lags=lags, errors='bayes')\n",
    "    \n",
    "    mplt.plot_implied_timescales(its_hdb, ax=ax3[i], ylog=False)\n",
    "    ax3[i].set_xlabel(r'$\\tau$', fontsize=18)\n",
    "    ax3[i].set_ylabel('')\n",
    "\n",
    "ax2[0].set_ylabel('y')\n",
    "plt.tight_layout()\n",
    "\n",
    "\n",
    "ax3[0].set_ylabel('ITS', fontsize=18)\n",
    "ax3[0].set_ylim(1,1000)\n",
    "plt.tight_layout()\n",
    "\n",
    "\n",
    "#plt.savefig(\"../figures/cossio/cossio-hdbscan-tree.png\", dpi=300)"
   ]
  },
  {
   "cell_type": "markdown",
   "metadata": {},
   "source": [
    "### Soft clustering"
   ]
  },
  {
   "cell_type": "code",
   "execution_count": null,
   "metadata": {},
   "outputs": [],
   "source": [
    "hdb = hdbscan.HDBSCAN(min_cluster_size=100).fit(norm_X)\n",
    "import copy"
   ]
  },
  {
   "cell_type": "code",
   "execution_count": null,
   "metadata": {},
   "outputs": [],
   "source": [
    "fig, ax = plt.subplots(1,4, figsize=(12, 3.), sharex=True, sharey=True)\n",
    "fig2, ax2 = plt.subplots(1,4, figsize=(11,3), sharex=True, sharey=True)\n",
    "\n",
    "for j, pc in enumerate([0.0, 0.2, 0.5, 0.7]):\n",
    "    hdb_copy = copy.deepcopy(hdb)\n",
    "    for i, x_i in enumerate(hdb_copy.labels_):\n",
    "        if hdb_copy.probabilities_[i] < pc:\n",
    "            hdb_copy.labels_[i] = -1\n",
    "\n",
    "    assign = hdb_copy.labels_ >= 0\n",
    "    CS = ax[j].contourf(Xpp, Ypp, mat, levels=lev, cmap='Greys_r', alpha=0.5)\n",
    "    ax[j].scatter(data[assign,0],data[assign,1], marker='o', \n",
    "                cmap='RdBu', s=1, c=hdb_copy.labels_[assign])\n",
    "    nassign = hdb_copy.labels_ == -1\n",
    "    ax[j].scatter(data[nassign,0],data[nassign,1], marker='.', \n",
    "                s=0.5, c='k', alpha=0.5)\n",
    "#plt.colorbar(CS)\n",
    "    ax[j].set_xlabel('x')\n",
    "    \n",
    "    \n",
    "    labels_tba = []\n",
    "    for i, l in enumerate(hdb_copy.labels_):\n",
    "        if l == -1:\n",
    "            try:\n",
    "                labels_tba.append(labels_tba[-1])\n",
    "            except IndexError:\n",
    "                pass\n",
    "        else:\n",
    "            labels_tba.append(l)\n",
    "\n",
    "    its_hdb = msm.its(labels_tba, lags=lags, errors='bayes')\n",
    "    \n",
    "    mplt.plot_implied_timescales(its_hdb, ax=ax2[j], ylog=False)\n",
    "    ax2[j].set_xlabel(r'$\\tau$', fontsize=18)\n",
    "    ax2[j].set_ylabel('')\n",
    "ax2[0].set_ylabel('ITS', fontsize=18)\n",
    "ax2[0].set_ylim(1,1000)\n",
    "plt.tight_layout()\n",
    "\n",
    "    \n",
    "ax[0].set_ylabel('y')\n",
    "plt.tight_layout()\n",
    "\n"
   ]
  },
  {
   "cell_type": "code",
   "execution_count": null,
   "metadata": {},
   "outputs": [],
   "source": [
    "fig, ax = plt.subplots(figsize=(3.5,3.5))\n",
    "axt = ax.twinx()\n",
    "axt.hist(data[hdb.labels_==1, 0], bins=np.linspace(-10,10,30), normed=True, alpha=0.5)\n",
    "axt.hist(data[hdb.labels_==0, 0], bins=np.linspace(-10,10,30), normed=True, alpha=0.5)\n",
    "axt.hist(data[hdb.labels_==-1, 0], bins=np.linspace(-10,10,30), normed=True, alpha=0.5)\n",
    "ax.plot(cl.clustercenters[:,0], flux.committor, '.', color='k')\n",
    "ax.set_xlabel('x')\n",
    "ax.set_ylabel(r'$p_{fold}$')"
   ]
  },
  {
   "cell_type": "code",
   "execution_count": null,
   "metadata": {},
   "outputs": [],
   "source": []
  }
 ],
 "metadata": {
  "kernelspec": {
   "display_name": "Python 3",
   "language": "python",
   "name": "python3"
  },
  "language_info": {
   "codemirror_mode": {
    "name": "ipython",
    "version": 3
   },
   "file_extension": ".py",
   "mimetype": "text/x-python",
   "name": "python",
   "nbconvert_exporter": "python",
   "pygments_lexer": "ipython3",
   "version": "3.7.4"
  }
 },
 "nbformat": 4,
 "nbformat_minor": 4
}
